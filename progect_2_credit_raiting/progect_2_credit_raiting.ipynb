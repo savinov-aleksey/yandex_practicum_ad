{
 "cells": [
  {
   "cell_type": "markdown",
   "id": "386f2ae7",
   "metadata": {
    "deletable": false,
    "editable": false,
    "id": "386f2ae7"
   },
   "source": [
    "# Исследование надежности заемщиков\n"
   ]
  },
  {
   "cell_type": "markdown",
   "id": "ffe86f65",
   "metadata": {
    "deletable": false,
    "editable": false,
    "id": "ffe86f65"
   },
   "source": [
    "Во второй части проекта вы выполните шаги 3 и 4. Их вручную проверит ревьюер.\n",
    "Чтобы вам не пришлось писать код заново для шагов 1 и 2, мы добавили авторские решения в ячейки с кодом. \n",
    "\n"
   ]
  },
  {
   "cell_type": "markdown",
   "id": "26613308",
   "metadata": {
    "deletable": false,
    "editable": false,
    "id": "26613308"
   },
   "source": [
    "## Откройте таблицу и изучите общую информацию о данных"
   ]
  },
  {
   "cell_type": "markdown",
   "id": "3c9f838e",
   "metadata": {
    "deletable": false,
    "editable": false,
    "id": "3c9f838e"
   },
   "source": [
    "**Задание 1. Импортируйте библиотеку pandas. Считайте данные из csv-файла в датафрейм и сохраните в переменную `data`. Путь к файлу:**\n",
    "\n",
    "`/datasets/data.csv`"
   ]
  },
  {
   "cell_type": "code",
   "execution_count": 1,
   "id": "77a68a90",
   "metadata": {
    "deletable": false,
    "id": "77a68a90"
   },
   "outputs": [],
   "source": [
    "import pandas as pd\n",
    "\n",
    "try:\n",
    "    data = pd.read_csv('/datasets/data.csv')\n",
    "except:\n",
    "    data = pd.read_csv('https://code.s3.yandex.net/datasets/data.csv')"
   ]
  },
  {
   "cell_type": "markdown",
   "id": "45365635",
   "metadata": {
    "deletable": false,
    "editable": false,
    "id": "45365635"
   },
   "source": [
    "**Задание 2. Выведите первые 20 строчек датафрейма `data` на экран.**"
   ]
  },
  {
   "cell_type": "code",
   "execution_count": 2,
   "id": "b0451a9a",
   "metadata": {
    "deletable": false,
    "id": "b0451a9a",
    "outputId": "1a8f3ef2-d323-4ec2-ddf7-89670b5944c4"
   },
   "outputs": [
    {
     "data": {
      "text/html": [
       "<div>\n",
       "<style scoped>\n",
       "    .dataframe tbody tr th:only-of-type {\n",
       "        vertical-align: middle;\n",
       "    }\n",
       "\n",
       "    .dataframe tbody tr th {\n",
       "        vertical-align: top;\n",
       "    }\n",
       "\n",
       "    .dataframe thead th {\n",
       "        text-align: right;\n",
       "    }\n",
       "</style>\n",
       "<table border=\"1\" class=\"dataframe\">\n",
       "  <thead>\n",
       "    <tr style=\"text-align: right;\">\n",
       "      <th></th>\n",
       "      <th>children</th>\n",
       "      <th>days_employed</th>\n",
       "      <th>dob_years</th>\n",
       "      <th>education</th>\n",
       "      <th>education_id</th>\n",
       "      <th>family_status</th>\n",
       "      <th>family_status_id</th>\n",
       "      <th>gender</th>\n",
       "      <th>income_type</th>\n",
       "      <th>debt</th>\n",
       "      <th>total_income</th>\n",
       "      <th>purpose</th>\n",
       "    </tr>\n",
       "  </thead>\n",
       "  <tbody>\n",
       "    <tr>\n",
       "      <th>0</th>\n",
       "      <td>1</td>\n",
       "      <td>-8437.673028</td>\n",
       "      <td>42</td>\n",
       "      <td>высшее</td>\n",
       "      <td>0</td>\n",
       "      <td>женат / замужем</td>\n",
       "      <td>0</td>\n",
       "      <td>F</td>\n",
       "      <td>сотрудник</td>\n",
       "      <td>0</td>\n",
       "      <td>253875.639453</td>\n",
       "      <td>покупка жилья</td>\n",
       "    </tr>\n",
       "    <tr>\n",
       "      <th>1</th>\n",
       "      <td>1</td>\n",
       "      <td>-4024.803754</td>\n",
       "      <td>36</td>\n",
       "      <td>среднее</td>\n",
       "      <td>1</td>\n",
       "      <td>женат / замужем</td>\n",
       "      <td>0</td>\n",
       "      <td>F</td>\n",
       "      <td>сотрудник</td>\n",
       "      <td>0</td>\n",
       "      <td>112080.014102</td>\n",
       "      <td>приобретение автомобиля</td>\n",
       "    </tr>\n",
       "    <tr>\n",
       "      <th>2</th>\n",
       "      <td>0</td>\n",
       "      <td>-5623.422610</td>\n",
       "      <td>33</td>\n",
       "      <td>Среднее</td>\n",
       "      <td>1</td>\n",
       "      <td>женат / замужем</td>\n",
       "      <td>0</td>\n",
       "      <td>M</td>\n",
       "      <td>сотрудник</td>\n",
       "      <td>0</td>\n",
       "      <td>145885.952297</td>\n",
       "      <td>покупка жилья</td>\n",
       "    </tr>\n",
       "    <tr>\n",
       "      <th>3</th>\n",
       "      <td>3</td>\n",
       "      <td>-4124.747207</td>\n",
       "      <td>32</td>\n",
       "      <td>среднее</td>\n",
       "      <td>1</td>\n",
       "      <td>женат / замужем</td>\n",
       "      <td>0</td>\n",
       "      <td>M</td>\n",
       "      <td>сотрудник</td>\n",
       "      <td>0</td>\n",
       "      <td>267628.550329</td>\n",
       "      <td>дополнительное образование</td>\n",
       "    </tr>\n",
       "    <tr>\n",
       "      <th>4</th>\n",
       "      <td>0</td>\n",
       "      <td>340266.072047</td>\n",
       "      <td>53</td>\n",
       "      <td>среднее</td>\n",
       "      <td>1</td>\n",
       "      <td>гражданский брак</td>\n",
       "      <td>1</td>\n",
       "      <td>F</td>\n",
       "      <td>пенсионер</td>\n",
       "      <td>0</td>\n",
       "      <td>158616.077870</td>\n",
       "      <td>сыграть свадьбу</td>\n",
       "    </tr>\n",
       "    <tr>\n",
       "      <th>5</th>\n",
       "      <td>0</td>\n",
       "      <td>-926.185831</td>\n",
       "      <td>27</td>\n",
       "      <td>высшее</td>\n",
       "      <td>0</td>\n",
       "      <td>гражданский брак</td>\n",
       "      <td>1</td>\n",
       "      <td>M</td>\n",
       "      <td>компаньон</td>\n",
       "      <td>0</td>\n",
       "      <td>255763.565419</td>\n",
       "      <td>покупка жилья</td>\n",
       "    </tr>\n",
       "    <tr>\n",
       "      <th>6</th>\n",
       "      <td>0</td>\n",
       "      <td>-2879.202052</td>\n",
       "      <td>43</td>\n",
       "      <td>высшее</td>\n",
       "      <td>0</td>\n",
       "      <td>женат / замужем</td>\n",
       "      <td>0</td>\n",
       "      <td>F</td>\n",
       "      <td>компаньон</td>\n",
       "      <td>0</td>\n",
       "      <td>240525.971920</td>\n",
       "      <td>операции с жильем</td>\n",
       "    </tr>\n",
       "    <tr>\n",
       "      <th>7</th>\n",
       "      <td>0</td>\n",
       "      <td>-152.779569</td>\n",
       "      <td>50</td>\n",
       "      <td>СРЕДНЕЕ</td>\n",
       "      <td>1</td>\n",
       "      <td>женат / замужем</td>\n",
       "      <td>0</td>\n",
       "      <td>M</td>\n",
       "      <td>сотрудник</td>\n",
       "      <td>0</td>\n",
       "      <td>135823.934197</td>\n",
       "      <td>образование</td>\n",
       "    </tr>\n",
       "    <tr>\n",
       "      <th>8</th>\n",
       "      <td>2</td>\n",
       "      <td>-6929.865299</td>\n",
       "      <td>35</td>\n",
       "      <td>ВЫСШЕЕ</td>\n",
       "      <td>0</td>\n",
       "      <td>гражданский брак</td>\n",
       "      <td>1</td>\n",
       "      <td>F</td>\n",
       "      <td>сотрудник</td>\n",
       "      <td>0</td>\n",
       "      <td>95856.832424</td>\n",
       "      <td>на проведение свадьбы</td>\n",
       "    </tr>\n",
       "    <tr>\n",
       "      <th>9</th>\n",
       "      <td>0</td>\n",
       "      <td>-2188.756445</td>\n",
       "      <td>41</td>\n",
       "      <td>среднее</td>\n",
       "      <td>1</td>\n",
       "      <td>женат / замужем</td>\n",
       "      <td>0</td>\n",
       "      <td>M</td>\n",
       "      <td>сотрудник</td>\n",
       "      <td>0</td>\n",
       "      <td>144425.938277</td>\n",
       "      <td>покупка жилья для семьи</td>\n",
       "    </tr>\n",
       "    <tr>\n",
       "      <th>10</th>\n",
       "      <td>2</td>\n",
       "      <td>-4171.483647</td>\n",
       "      <td>36</td>\n",
       "      <td>высшее</td>\n",
       "      <td>0</td>\n",
       "      <td>женат / замужем</td>\n",
       "      <td>0</td>\n",
       "      <td>M</td>\n",
       "      <td>компаньон</td>\n",
       "      <td>0</td>\n",
       "      <td>113943.491460</td>\n",
       "      <td>покупка недвижимости</td>\n",
       "    </tr>\n",
       "    <tr>\n",
       "      <th>11</th>\n",
       "      <td>0</td>\n",
       "      <td>-792.701887</td>\n",
       "      <td>40</td>\n",
       "      <td>среднее</td>\n",
       "      <td>1</td>\n",
       "      <td>женат / замужем</td>\n",
       "      <td>0</td>\n",
       "      <td>F</td>\n",
       "      <td>сотрудник</td>\n",
       "      <td>0</td>\n",
       "      <td>77069.234271</td>\n",
       "      <td>покупка коммерческой недвижимости</td>\n",
       "    </tr>\n",
       "    <tr>\n",
       "      <th>12</th>\n",
       "      <td>0</td>\n",
       "      <td>NaN</td>\n",
       "      <td>65</td>\n",
       "      <td>среднее</td>\n",
       "      <td>1</td>\n",
       "      <td>гражданский брак</td>\n",
       "      <td>1</td>\n",
       "      <td>M</td>\n",
       "      <td>пенсионер</td>\n",
       "      <td>0</td>\n",
       "      <td>NaN</td>\n",
       "      <td>сыграть свадьбу</td>\n",
       "    </tr>\n",
       "    <tr>\n",
       "      <th>13</th>\n",
       "      <td>0</td>\n",
       "      <td>-1846.641941</td>\n",
       "      <td>54</td>\n",
       "      <td>неоконченное высшее</td>\n",
       "      <td>2</td>\n",
       "      <td>женат / замужем</td>\n",
       "      <td>0</td>\n",
       "      <td>F</td>\n",
       "      <td>сотрудник</td>\n",
       "      <td>0</td>\n",
       "      <td>130458.228857</td>\n",
       "      <td>приобретение автомобиля</td>\n",
       "    </tr>\n",
       "    <tr>\n",
       "      <th>14</th>\n",
       "      <td>0</td>\n",
       "      <td>-1844.956182</td>\n",
       "      <td>56</td>\n",
       "      <td>высшее</td>\n",
       "      <td>0</td>\n",
       "      <td>гражданский брак</td>\n",
       "      <td>1</td>\n",
       "      <td>F</td>\n",
       "      <td>компаньон</td>\n",
       "      <td>1</td>\n",
       "      <td>165127.911772</td>\n",
       "      <td>покупка жилой недвижимости</td>\n",
       "    </tr>\n",
       "    <tr>\n",
       "      <th>15</th>\n",
       "      <td>1</td>\n",
       "      <td>-972.364419</td>\n",
       "      <td>26</td>\n",
       "      <td>среднее</td>\n",
       "      <td>1</td>\n",
       "      <td>женат / замужем</td>\n",
       "      <td>0</td>\n",
       "      <td>F</td>\n",
       "      <td>сотрудник</td>\n",
       "      <td>0</td>\n",
       "      <td>116820.904450</td>\n",
       "      <td>строительство собственной недвижимости</td>\n",
       "    </tr>\n",
       "    <tr>\n",
       "      <th>16</th>\n",
       "      <td>0</td>\n",
       "      <td>-1719.934226</td>\n",
       "      <td>35</td>\n",
       "      <td>среднее</td>\n",
       "      <td>1</td>\n",
       "      <td>женат / замужем</td>\n",
       "      <td>0</td>\n",
       "      <td>F</td>\n",
       "      <td>сотрудник</td>\n",
       "      <td>0</td>\n",
       "      <td>289202.704229</td>\n",
       "      <td>недвижимость</td>\n",
       "    </tr>\n",
       "    <tr>\n",
       "      <th>17</th>\n",
       "      <td>0</td>\n",
       "      <td>-2369.999720</td>\n",
       "      <td>33</td>\n",
       "      <td>высшее</td>\n",
       "      <td>0</td>\n",
       "      <td>гражданский брак</td>\n",
       "      <td>1</td>\n",
       "      <td>M</td>\n",
       "      <td>сотрудник</td>\n",
       "      <td>0</td>\n",
       "      <td>90410.586745</td>\n",
       "      <td>строительство недвижимости</td>\n",
       "    </tr>\n",
       "    <tr>\n",
       "      <th>18</th>\n",
       "      <td>0</td>\n",
       "      <td>400281.136913</td>\n",
       "      <td>53</td>\n",
       "      <td>среднее</td>\n",
       "      <td>1</td>\n",
       "      <td>вдовец / вдова</td>\n",
       "      <td>2</td>\n",
       "      <td>F</td>\n",
       "      <td>пенсионер</td>\n",
       "      <td>0</td>\n",
       "      <td>56823.777243</td>\n",
       "      <td>на покупку подержанного автомобиля</td>\n",
       "    </tr>\n",
       "    <tr>\n",
       "      <th>19</th>\n",
       "      <td>0</td>\n",
       "      <td>-10038.818549</td>\n",
       "      <td>48</td>\n",
       "      <td>СРЕДНЕЕ</td>\n",
       "      <td>1</td>\n",
       "      <td>в разводе</td>\n",
       "      <td>3</td>\n",
       "      <td>F</td>\n",
       "      <td>сотрудник</td>\n",
       "      <td>0</td>\n",
       "      <td>242831.107982</td>\n",
       "      <td>на покупку своего автомобиля</td>\n",
       "    </tr>\n",
       "  </tbody>\n",
       "</table>\n",
       "</div>"
      ],
      "text/plain": [
       "    children  days_employed  dob_years            education  education_id  \\\n",
       "0          1   -8437.673028         42               высшее             0   \n",
       "1          1   -4024.803754         36              среднее             1   \n",
       "2          0   -5623.422610         33              Среднее             1   \n",
       "3          3   -4124.747207         32              среднее             1   \n",
       "4          0  340266.072047         53              среднее             1   \n",
       "5          0    -926.185831         27               высшее             0   \n",
       "6          0   -2879.202052         43               высшее             0   \n",
       "7          0    -152.779569         50              СРЕДНЕЕ             1   \n",
       "8          2   -6929.865299         35               ВЫСШЕЕ             0   \n",
       "9          0   -2188.756445         41              среднее             1   \n",
       "10         2   -4171.483647         36               высшее             0   \n",
       "11         0    -792.701887         40              среднее             1   \n",
       "12         0            NaN         65              среднее             1   \n",
       "13         0   -1846.641941         54  неоконченное высшее             2   \n",
       "14         0   -1844.956182         56               высшее             0   \n",
       "15         1    -972.364419         26              среднее             1   \n",
       "16         0   -1719.934226         35              среднее             1   \n",
       "17         0   -2369.999720         33               высшее             0   \n",
       "18         0  400281.136913         53              среднее             1   \n",
       "19         0  -10038.818549         48              СРЕДНЕЕ             1   \n",
       "\n",
       "       family_status  family_status_id gender income_type  debt  \\\n",
       "0    женат / замужем                 0      F   сотрудник     0   \n",
       "1    женат / замужем                 0      F   сотрудник     0   \n",
       "2    женат / замужем                 0      M   сотрудник     0   \n",
       "3    женат / замужем                 0      M   сотрудник     0   \n",
       "4   гражданский брак                 1      F   пенсионер     0   \n",
       "5   гражданский брак                 1      M   компаньон     0   \n",
       "6    женат / замужем                 0      F   компаньон     0   \n",
       "7    женат / замужем                 0      M   сотрудник     0   \n",
       "8   гражданский брак                 1      F   сотрудник     0   \n",
       "9    женат / замужем                 0      M   сотрудник     0   \n",
       "10   женат / замужем                 0      M   компаньон     0   \n",
       "11   женат / замужем                 0      F   сотрудник     0   \n",
       "12  гражданский брак                 1      M   пенсионер     0   \n",
       "13   женат / замужем                 0      F   сотрудник     0   \n",
       "14  гражданский брак                 1      F   компаньон     1   \n",
       "15   женат / замужем                 0      F   сотрудник     0   \n",
       "16   женат / замужем                 0      F   сотрудник     0   \n",
       "17  гражданский брак                 1      M   сотрудник     0   \n",
       "18    вдовец / вдова                 2      F   пенсионер     0   \n",
       "19         в разводе                 3      F   сотрудник     0   \n",
       "\n",
       "     total_income                                 purpose  \n",
       "0   253875.639453                           покупка жилья  \n",
       "1   112080.014102                 приобретение автомобиля  \n",
       "2   145885.952297                           покупка жилья  \n",
       "3   267628.550329              дополнительное образование  \n",
       "4   158616.077870                         сыграть свадьбу  \n",
       "5   255763.565419                           покупка жилья  \n",
       "6   240525.971920                       операции с жильем  \n",
       "7   135823.934197                             образование  \n",
       "8    95856.832424                   на проведение свадьбы  \n",
       "9   144425.938277                 покупка жилья для семьи  \n",
       "10  113943.491460                    покупка недвижимости  \n",
       "11   77069.234271       покупка коммерческой недвижимости  \n",
       "12            NaN                         сыграть свадьбу  \n",
       "13  130458.228857                 приобретение автомобиля  \n",
       "14  165127.911772              покупка жилой недвижимости  \n",
       "15  116820.904450  строительство собственной недвижимости  \n",
       "16  289202.704229                            недвижимость  \n",
       "17   90410.586745              строительство недвижимости  \n",
       "18   56823.777243      на покупку подержанного автомобиля  \n",
       "19  242831.107982            на покупку своего автомобиля  "
      ]
     },
     "execution_count": 2,
     "metadata": {},
     "output_type": "execute_result"
    }
   ],
   "source": [
    "data.head(20)"
   ]
  },
  {
   "cell_type": "markdown",
   "id": "0ed8f27f",
   "metadata": {
    "deletable": false,
    "editable": false,
    "id": "0ed8f27f"
   },
   "source": [
    "**Задание 3. Выведите основную информацию о датафрейме с помощью метода `info()`.**"
   ]
  },
  {
   "cell_type": "code",
   "execution_count": 3,
   "id": "ab3f863b",
   "metadata": {
    "deletable": false,
    "id": "ab3f863b",
    "outputId": "15376089-8dad-46c9-b520-c05248d43158"
   },
   "outputs": [
    {
     "name": "stdout",
     "output_type": "stream",
     "text": [
      "<class 'pandas.core.frame.DataFrame'>\n",
      "RangeIndex: 21525 entries, 0 to 21524\n",
      "Data columns (total 12 columns):\n",
      " #   Column            Non-Null Count  Dtype  \n",
      "---  ------            --------------  -----  \n",
      " 0   children          21525 non-null  int64  \n",
      " 1   days_employed     19351 non-null  float64\n",
      " 2   dob_years         21525 non-null  int64  \n",
      " 3   education         21525 non-null  object \n",
      " 4   education_id      21525 non-null  int64  \n",
      " 5   family_status     21525 non-null  object \n",
      " 6   family_status_id  21525 non-null  int64  \n",
      " 7   gender            21525 non-null  object \n",
      " 8   income_type       21525 non-null  object \n",
      " 9   debt              21525 non-null  int64  \n",
      " 10  total_income      19351 non-null  float64\n",
      " 11  purpose           21525 non-null  object \n",
      "dtypes: float64(2), int64(5), object(5)\n",
      "memory usage: 2.0+ MB\n"
     ]
    }
   ],
   "source": [
    "data.info()"
   ]
  },
  {
   "cell_type": "markdown",
   "id": "60e3e22d",
   "metadata": {
    "deletable": false,
    "editable": false,
    "id": "60e3e22d"
   },
   "source": [
    "## Предобработка данных"
   ]
  },
  {
   "cell_type": "markdown",
   "id": "03dc170c",
   "metadata": {
    "deletable": false,
    "editable": false,
    "id": "03dc170c"
   },
   "source": [
    "### Удаление пропусков"
   ]
  },
  {
   "cell_type": "markdown",
   "id": "a4f54eef",
   "metadata": {
    "deletable": false,
    "editable": false,
    "id": "a4f54eef"
   },
   "source": [
    "**Задание 4. Выведите количество пропущенных значений для каждого столбца. Используйте комбинацию двух методов.**"
   ]
  },
  {
   "cell_type": "code",
   "execution_count": 4,
   "id": "2dc372b2",
   "metadata": {
    "deletable": false,
    "id": "2dc372b2",
    "outputId": "81f4d817-781c-465c-ed15-91ce4446810d"
   },
   "outputs": [
    {
     "data": {
      "text/plain": [
       "children               0\n",
       "days_employed       2174\n",
       "dob_years              0\n",
       "education              0\n",
       "education_id           0\n",
       "family_status          0\n",
       "family_status_id       0\n",
       "gender                 0\n",
       "income_type            0\n",
       "debt                   0\n",
       "total_income        2174\n",
       "purpose                0\n",
       "dtype: int64"
      ]
     },
     "execution_count": 4,
     "metadata": {},
     "output_type": "execute_result"
    }
   ],
   "source": [
    "data.isna().sum()"
   ]
  },
  {
   "cell_type": "markdown",
   "id": "14f011b1",
   "metadata": {
    "deletable": false,
    "editable": false,
    "id": "14f011b1"
   },
   "source": [
    "**Задание 5. В двух столбцах есть пропущенные значения. Один из них — `days_employed`. Пропуски в этом столбце вы обработаете на следующем этапе. Другой столбец с пропущенными значениями — `total_income` — хранит данные о доходах. На сумму дохода сильнее всего влияет тип занятости, поэтому заполнить пропуски в этом столбце нужно медианным значением по каждому типу из столбца `income_type`. Например, у человека с типом занятости `сотрудник` пропуск в столбце `total_income` должен быть заполнен медианным доходом среди всех записей с тем же типом.**"
   ]
  },
  {
   "cell_type": "code",
   "execution_count": 5,
   "id": "bdabfb6e",
   "metadata": {
    "deletable": false,
    "id": "bdabfb6e"
   },
   "outputs": [],
   "source": [
    "for t in data['income_type'].unique():\n",
    "    data.loc[(data['income_type'] == t) & (data['total_income'].isna()), 'total_income'] = \\\n",
    "    data.loc[(data['income_type'] == t), 'total_income'].median()"
   ]
  },
  {
   "cell_type": "markdown",
   "id": "5be34059",
   "metadata": {
    "deletable": false,
    "editable": false,
    "id": "5be34059"
   },
   "source": [
    "### Обработка аномальных значений"
   ]
  },
  {
   "cell_type": "markdown",
   "id": "a87606cb",
   "metadata": {
    "deletable": false,
    "editable": false,
    "id": "a87606cb"
   },
   "source": [
    "**Задание 6. В данных могут встречаться артефакты (аномалии) — значения, которые не отражают действительность и появились по какой-то ошибке. таким артефактом будет отрицательное количество дней трудового стажа в столбце `days_employed`. Для реальных данных это нормально. Обработайте значения в этом столбце: замените все отрицательные значения положительными с помощью метода `abs()`.**"
   ]
  },
  {
   "cell_type": "code",
   "execution_count": 6,
   "id": "020c46cc",
   "metadata": {
    "deletable": false,
    "id": "020c46cc"
   },
   "outputs": [],
   "source": [
    "data['days_employed'] = data['days_employed'].abs()"
   ]
  },
  {
   "cell_type": "markdown",
   "id": "45538a3a",
   "metadata": {
    "deletable": false,
    "editable": false,
    "id": "45538a3a"
   },
   "source": [
    "**Задание 7. Для каждого типа занятости выведите медианное значение трудового стажа `days_employed` в днях.**"
   ]
  },
  {
   "cell_type": "code",
   "execution_count": 7,
   "id": "cd3e6328",
   "metadata": {
    "deletable": false,
    "id": "cd3e6328",
    "outputId": "801ef80e-522b-4668-f34e-565af7432bcf"
   },
   "outputs": [
    {
     "data": {
      "text/plain": [
       "income_type\n",
       "безработный        366413.652744\n",
       "в декрете            3296.759962\n",
       "госслужащий          2689.368353\n",
       "компаньон            1547.382223\n",
       "пенсионер          365213.306266\n",
       "предприниматель       520.848083\n",
       "сотрудник            1574.202821\n",
       "студент               578.751554\n",
       "Name: days_employed, dtype: float64"
      ]
     },
     "execution_count": 7,
     "metadata": {},
     "output_type": "execute_result"
    }
   ],
   "source": [
    "data.groupby('income_type')['days_employed'].agg('median')"
   ]
  },
  {
   "cell_type": "markdown",
   "id": "90c5f058",
   "metadata": {
    "deletable": false,
    "editable": false,
    "id": "90c5f058"
   },
   "source": [
    "У двух типов (безработные и пенсионеры) получатся аномально большие значения. Исправить такие значения сложно, поэтому оставьте их как есть."
   ]
  },
  {
   "cell_type": "markdown",
   "id": "9652e50d",
   "metadata": {
    "deletable": false,
    "editable": false,
    "id": "9652e50d"
   },
   "source": [
    "**Задание 8. Выведите перечень уникальных значений столбца `children`.**"
   ]
  },
  {
   "cell_type": "code",
   "execution_count": 8,
   "id": "dbb37b8e",
   "metadata": {
    "deletable": false,
    "id": "dbb37b8e",
    "outputId": "6975b15c-7f95-4697-d16d-a0c79b657b03"
   },
   "outputs": [
    {
     "data": {
      "text/plain": [
       "array([ 1,  0,  3,  2, -1,  4, 20,  5])"
      ]
     },
     "execution_count": 8,
     "metadata": {},
     "output_type": "execute_result"
    }
   ],
   "source": [
    "data['children'].unique()"
   ]
  },
  {
   "cell_type": "markdown",
   "id": "2b8b0715",
   "metadata": {
    "deletable": false,
    "editable": false,
    "id": "2b8b0715"
   },
   "source": [
    "**Задание 9. В столбце `children` есть два аномальных значения. Удалите строки, в которых встречаются такие аномальные значения из датафрейма `data`.**"
   ]
  },
  {
   "cell_type": "code",
   "execution_count": 9,
   "id": "20009df8",
   "metadata": {
    "deletable": false,
    "id": "20009df8"
   },
   "outputs": [],
   "source": [
    "data = data[(data['children'] != -1) & (data['children'] != 20)]"
   ]
  },
  {
   "cell_type": "markdown",
   "id": "8c6ac9f1",
   "metadata": {
    "deletable": false,
    "editable": false,
    "id": "8c6ac9f1"
   },
   "source": [
    "**Задание 10. Ещё раз выведите перечень уникальных значений столбца `children`, чтобы убедиться, что артефакты удалены.**"
   ]
  },
  {
   "cell_type": "code",
   "execution_count": 10,
   "id": "07337b81",
   "metadata": {
    "deletable": false,
    "id": "07337b81",
    "outputId": "b2097101-d49d-44d9-901b-32a65c9463d1"
   },
   "outputs": [
    {
     "data": {
      "text/plain": [
       "array([1, 0, 3, 2, 4, 5])"
      ]
     },
     "execution_count": 10,
     "metadata": {},
     "output_type": "execute_result"
    }
   ],
   "source": [
    "data['children'].unique()"
   ]
  },
  {
   "cell_type": "markdown",
   "id": "ee3f52d4",
   "metadata": {
    "deletable": false,
    "editable": false,
    "id": "ee3f52d4"
   },
   "source": [
    "### Удаление пропусков (продолжение)"
   ]
  },
  {
   "cell_type": "markdown",
   "id": "a700b0e4",
   "metadata": {
    "deletable": false,
    "editable": false,
    "id": "a700b0e4"
   },
   "source": [
    "**Задание 11. Заполните пропуски в столбце `days_employed` медианными значениями по каждого типа занятости `income_type`.**"
   ]
  },
  {
   "cell_type": "code",
   "execution_count": 11,
   "id": "61946b83",
   "metadata": {
    "deletable": false,
    "id": "61946b83"
   },
   "outputs": [],
   "source": [
    "for t in data['income_type'].unique():\n",
    "    data.loc[(data['income_type'] == t) & (data['days_employed'].isna()), 'days_employed'] = \\\n",
    "    data.loc[(data['income_type'] == t), 'days_employed'].median()"
   ]
  },
  {
   "cell_type": "markdown",
   "id": "550dcd9b",
   "metadata": {
    "deletable": false,
    "editable": false,
    "id": "550dcd9b"
   },
   "source": [
    "**Задание 12. Убедитесь, что все пропуски заполнены. Проверьте себя и ещё раз выведите количество пропущенных значений для каждого столбца с помощью двух методов.**"
   ]
  },
  {
   "cell_type": "code",
   "execution_count": 12,
   "id": "937c7014",
   "metadata": {
    "deletable": false,
    "id": "937c7014",
    "outputId": "8da1e4e1-358e-4e87-98c9-f261bce0a7b2"
   },
   "outputs": [
    {
     "data": {
      "text/plain": [
       "children            0\n",
       "days_employed       0\n",
       "dob_years           0\n",
       "education           0\n",
       "education_id        0\n",
       "family_status       0\n",
       "family_status_id    0\n",
       "gender              0\n",
       "income_type         0\n",
       "debt                0\n",
       "total_income        0\n",
       "purpose             0\n",
       "dtype: int64"
      ]
     },
     "execution_count": 12,
     "metadata": {},
     "output_type": "execute_result"
    }
   ],
   "source": [
    "data.isna().sum()"
   ]
  },
  {
   "cell_type": "markdown",
   "id": "d522e295",
   "metadata": {
    "deletable": false,
    "editable": false,
    "id": "d522e295"
   },
   "source": [
    "### Изменение типов данных"
   ]
  },
  {
   "cell_type": "markdown",
   "id": "c229c581",
   "metadata": {
    "deletable": false,
    "editable": false,
    "id": "c229c581"
   },
   "source": [
    "**Задание 13. Замените вещественный тип данных в столбце `total_income` на целочисленный с помощью метода `astype()`.**"
   ]
  },
  {
   "cell_type": "code",
   "execution_count": 13,
   "id": "31036462",
   "metadata": {
    "deletable": false,
    "id": "31036462"
   },
   "outputs": [],
   "source": [
    "data['total_income'] = data['total_income'].astype(int)"
   ]
  },
  {
   "cell_type": "markdown",
   "id": "b8e3d1d9",
   "metadata": {
    "deletable": false,
    "editable": false,
    "id": "b8e3d1d9"
   },
   "source": [
    "### Обработка дубликатов"
   ]
  },
  {
   "cell_type": "markdown",
   "id": "9be53c49",
   "metadata": {
    "deletable": false,
    "editable": false,
    "id": "9be53c49"
   },
   "source": [
    "**Задание 14. Обработайте неявные дубликаты в столбце `education`. В этом столбце есть одни и те же значения, но записанные по-разному: с использованием заглавных и строчных букв. Приведите их к нижнему регистру.**"
   ]
  },
  {
   "cell_type": "code",
   "execution_count": 14,
   "id": "d89e73e1",
   "metadata": {
    "deletable": false,
    "id": "d89e73e1"
   },
   "outputs": [],
   "source": [
    "data['education'] = data['education'].str.lower()"
   ]
  },
  {
   "cell_type": "markdown",
   "id": "01d4500e",
   "metadata": {
    "deletable": false,
    "editable": false,
    "id": "01d4500e"
   },
   "source": [
    "**Задание 15. Выведите на экран количество строк-дубликатов в данных. Если такие строки присутствуют, удалите их.**"
   ]
  },
  {
   "cell_type": "code",
   "execution_count": 15,
   "id": "e10efb23",
   "metadata": {
    "deletable": false,
    "id": "e10efb23",
    "outputId": "9684deba-1934-42d1-99e1-cda61740f822"
   },
   "outputs": [
    {
     "data": {
      "text/plain": [
       "71"
      ]
     },
     "execution_count": 15,
     "metadata": {},
     "output_type": "execute_result"
    }
   ],
   "source": [
    "data.duplicated().sum()"
   ]
  },
  {
   "cell_type": "code",
   "execution_count": 16,
   "id": "df853f20",
   "metadata": {
    "deletable": false,
    "id": "df853f20"
   },
   "outputs": [],
   "source": [
    "data = data.drop_duplicates()"
   ]
  },
  {
   "cell_type": "markdown",
   "id": "627be38f",
   "metadata": {
    "deletable": false,
    "editable": false,
    "id": "627be38f"
   },
   "source": [
    "### Категоризация данных"
   ]
  },
  {
   "cell_type": "markdown",
   "id": "4684c3e0",
   "metadata": {
    "deletable": false,
    "editable": false,
    "id": "4684c3e0"
   },
   "source": [
    "**Задание 16. На основании диапазонов, указанных ниже, создайте в датафрейме `data` столбец `total_income_category` с категориями:**\n",
    "\n",
    "- 0–30000 — `'E'`;\n",
    "- 30001–50000 — `'D'`;\n",
    "- 50001–200000 — `'C'`;\n",
    "- 200001–1000000 — `'B'`;\n",
    "- 1000001 и выше — `'A'`.\n",
    "\n",
    "\n",
    "**Например, кредитополучателю с доходом 25000 нужно назначить категорию `'E'`, а клиенту, получающему 235000, — `'B'`. Используйте собственную функцию с именем `categorize_income()` и метод `apply()`.**"
   ]
  },
  {
   "cell_type": "code",
   "execution_count": 17,
   "id": "78965238",
   "metadata": {
    "deletable": false,
    "id": "78965238"
   },
   "outputs": [],
   "source": [
    "def categorize_income(income):\n",
    "    try:\n",
    "        if 0 <= income <= 30000:\n",
    "            return 'E'\n",
    "        elif 30001 <= income <= 50000:\n",
    "            return 'D'\n",
    "        elif 50001 <= income <= 200000:\n",
    "            return 'C'\n",
    "        elif 200001 <= income <= 1000000:\n",
    "            return 'B'\n",
    "        elif income >= 1000001:\n",
    "            return 'A'\n",
    "    except:\n",
    "        pass"
   ]
  },
  {
   "cell_type": "code",
   "execution_count": 18,
   "id": "0980ada1",
   "metadata": {
    "deletable": false,
    "id": "0980ada1"
   },
   "outputs": [],
   "source": [
    "data['total_income_category'] = data['total_income'].apply(categorize_income)"
   ]
  },
  {
   "cell_type": "markdown",
   "id": "9917bba0",
   "metadata": {
    "deletable": false,
    "editable": false,
    "id": "9917bba0"
   },
   "source": [
    "**Задание 17. Выведите на экран перечень уникальных целей взятия кредита из столбца `purpose`.**"
   ]
  },
  {
   "cell_type": "code",
   "execution_count": 19,
   "id": "ee07b65e",
   "metadata": {
    "deletable": false,
    "id": "ee07b65e",
    "outputId": "673c12d9-7d7e-4ae0-9812-c622c89dd244"
   },
   "outputs": [
    {
     "data": {
      "text/plain": [
       "array(['покупка жилья', 'приобретение автомобиля',\n",
       "       'дополнительное образование', 'сыграть свадьбу',\n",
       "       'операции с жильем', 'образование', 'на проведение свадьбы',\n",
       "       'покупка жилья для семьи', 'покупка недвижимости',\n",
       "       'покупка коммерческой недвижимости', 'покупка жилой недвижимости',\n",
       "       'строительство собственной недвижимости', 'недвижимость',\n",
       "       'строительство недвижимости', 'на покупку подержанного автомобиля',\n",
       "       'на покупку своего автомобиля',\n",
       "       'операции с коммерческой недвижимостью',\n",
       "       'строительство жилой недвижимости', 'жилье',\n",
       "       'операции со своей недвижимостью', 'автомобили',\n",
       "       'заняться образованием', 'сделка с подержанным автомобилем',\n",
       "       'получение образования', 'автомобиль', 'свадьба',\n",
       "       'получение дополнительного образования', 'покупка своего жилья',\n",
       "       'операции с недвижимостью', 'получение высшего образования',\n",
       "       'свой автомобиль', 'сделка с автомобилем',\n",
       "       'профильное образование', 'высшее образование',\n",
       "       'покупка жилья для сдачи', 'на покупку автомобиля', 'ремонт жилью',\n",
       "       'заняться высшим образованием'], dtype=object)"
      ]
     },
     "execution_count": 19,
     "metadata": {},
     "output_type": "execute_result"
    }
   ],
   "source": [
    "data['purpose'].unique()"
   ]
  },
  {
   "cell_type": "markdown",
   "id": "52b79d56",
   "metadata": {
    "deletable": false,
    "editable": false,
    "id": "52b79d56"
   },
   "source": [
    "**Задание 18. Создайте функцию, которая на основании данных из столбца `purpose` сформирует новый столбец `purpose_category`, в который войдут следующие категории:**\n",
    "\n",
    "- `'операции с автомобилем'`,\n",
    "- `'операции с недвижимостью'`,\n",
    "- `'проведение свадьбы'`,\n",
    "- `'получение образования'`.\n",
    "\n",
    "**Например, если в столбце `purpose` находится подстрока `'на покупку автомобиля'`, то в столбце `purpose_category` должна появиться строка `'операции с автомобилем'`.**\n",
    "\n",
    "**Используйте собственную функцию с именем `categorize_purpose()` и метод `apply()`. Изучите данные в столбце `purpose` и определите, какие подстроки помогут вам правильно определить категорию.**"
   ]
  },
  {
   "cell_type": "code",
   "execution_count": 20,
   "id": "be41da5d",
   "metadata": {
    "deletable": false,
    "id": "be41da5d"
   },
   "outputs": [],
   "source": [
    "def categorize_purpose(row):\n",
    "    try:\n",
    "        if 'автом' in row:\n",
    "            return 'операции с автомобилем'\n",
    "        elif 'жил' in row or 'недвиж' in row:\n",
    "            return 'операции с недвижимостью'\n",
    "        elif 'свад' in row:\n",
    "            return 'проведение свадьбы'\n",
    "        elif 'образов' in row:\n",
    "            return 'получение образования'\n",
    "    except:\n",
    "        return 'нет категории'"
   ]
  },
  {
   "cell_type": "code",
   "execution_count": 21,
   "id": "94c4a19a",
   "metadata": {
    "deletable": false,
    "id": "94c4a19a"
   },
   "outputs": [],
   "source": [
    "data['purpose_category'] = data['purpose'].apply(categorize_purpose)"
   ]
  },
  {
   "cell_type": "markdown",
   "id": "3d596c34",
   "metadata": {
    "deletable": false,
    "editable": false,
    "id": "3d596c34"
   },
   "source": [
    "### Шаг 3. Исследуйте данные и ответьте на вопросы"
   ]
  },
  {
   "cell_type": "markdown",
   "id": "648db036",
   "metadata": {
    "deletable": false,
    "editable": false,
    "id": "648db036"
   },
   "source": [
    "#### 3.1 Есть ли зависимость между количеством детей и возвратом кредита в срок?"
   ]
  },
  {
   "cell_type": "code",
   "execution_count": 22,
   "id": "7fcff25e",
   "metadata": {
    "deletable": false,
    "id": "7fcff25e"
   },
   "outputs": [
    {
     "data": {
      "text/html": [
       "<style  type=\"text/css\" >\n",
       "</style><table id=\"T_d792b_\" ><thead>    <tr>        <th class=\"blank level0\" ></th>        <th class=\"col_heading level0 col0\" >whithout_debt</th>        <th class=\"col_heading level0 col1\" >whith_debt</th>        <th class=\"col_heading level0 col2\" >percent_debt</th>    </tr>    <tr>        <th class=\"index_name level0\" >children</th>        <th class=\"blank\" ></th>        <th class=\"blank\" ></th>        <th class=\"blank\" ></th>    </tr></thead><tbody>\n",
       "                <tr>\n",
       "                        <th id=\"T_d792b_level0_row0\" class=\"row_heading level0 row0\" >5</th>\n",
       "                        <td id=\"T_d792b_row0_col0\" class=\"data row0 col0\" >9.0</td>\n",
       "                        <td id=\"T_d792b_row0_col1\" class=\"data row0 col1\" >0.0</td>\n",
       "                        <td id=\"T_d792b_row0_col2\" class=\"data row0 col2\" >0.00%</td>\n",
       "            </tr>\n",
       "            <tr>\n",
       "                        <th id=\"T_d792b_level0_row1\" class=\"row_heading level0 row1\" >0</th>\n",
       "                        <td id=\"T_d792b_row1_col0\" class=\"data row1 col0\" >13028.0</td>\n",
       "                        <td id=\"T_d792b_row1_col1\" class=\"data row1 col1\" >1063.0</td>\n",
       "                        <td id=\"T_d792b_row1_col2\" class=\"data row1 col2\" >7.54%</td>\n",
       "            </tr>\n",
       "            <tr>\n",
       "                        <th id=\"T_d792b_level0_row2\" class=\"row_heading level0 row2\" >3</th>\n",
       "                        <td id=\"T_d792b_row2_col0\" class=\"data row2 col0\" >303.0</td>\n",
       "                        <td id=\"T_d792b_row2_col1\" class=\"data row2 col1\" >27.0</td>\n",
       "                        <td id=\"T_d792b_row2_col2\" class=\"data row2 col2\" >8.18%</td>\n",
       "            </tr>\n",
       "            <tr>\n",
       "                        <th id=\"T_d792b_level0_row3\" class=\"row_heading level0 row3\" >1</th>\n",
       "                        <td id=\"T_d792b_row3_col0\" class=\"data row3 col0\" >4364.0</td>\n",
       "                        <td id=\"T_d792b_row3_col1\" class=\"data row3 col1\" >444.0</td>\n",
       "                        <td id=\"T_d792b_row3_col2\" class=\"data row3 col2\" >9.23%</td>\n",
       "            </tr>\n",
       "            <tr>\n",
       "                        <th id=\"T_d792b_level0_row4\" class=\"row_heading level0 row4\" >2</th>\n",
       "                        <td id=\"T_d792b_row4_col0\" class=\"data row4 col0\" >1858.0</td>\n",
       "                        <td id=\"T_d792b_row4_col1\" class=\"data row4 col1\" >194.0</td>\n",
       "                        <td id=\"T_d792b_row4_col2\" class=\"data row4 col2\" >9.45%</td>\n",
       "            </tr>\n",
       "            <tr>\n",
       "                        <th id=\"T_d792b_level0_row5\" class=\"row_heading level0 row5\" >4</th>\n",
       "                        <td id=\"T_d792b_row5_col0\" class=\"data row5 col0\" >37.0</td>\n",
       "                        <td id=\"T_d792b_row5_col1\" class=\"data row5 col1\" >4.0</td>\n",
       "                        <td id=\"T_d792b_row5_col2\" class=\"data row5 col2\" >9.76%</td>\n",
       "            </tr>\n",
       "    </tbody></table>"
      ],
      "text/plain": [
       "<pandas.io.formats.style.Styler at 0x7f6ce7c33130>"
      ]
     },
     "execution_count": 22,
     "metadata": {},
     "output_type": "execute_result"
    }
   ],
   "source": [
    "table_children = data.pivot_table(index = 'children',columns = 'debt',\n",
    "                                  values = 'education', aggfunc = 'count').fillna(0)\n",
    "table_children.columns = ['whithout_debt', 'whith_debt']\n",
    "table_children['percent_debt'] = (table_children['whith_debt'] /\n",
    "                                (table_children['whith_debt'] + table_children['whithout_debt']))\n",
    "table_children.sort_values(by = 'percent_debt', ascending = True).style.format(\n",
    "    {'whithout_debt': '{:.6}','whith_debt': '{:.5}','percent_debt': '{:.2%}'})"
   ]
  },
  {
   "cell_type": "markdown",
   "id": "2eb9088e",
   "metadata": {
    "deletable": false,
    "id": "2eb9088e"
   },
   "source": [
    "**Вывод:** Существует зависимость между возвратом кредита в срок и колиством детей у заёмщиков.\n",
    "У заёмщиков без детей процент не возврата кредита в срок ниже чем у заёмщиков с детьми.Так же заёмщики без детей составлют большую часть от всех заемщиков.\n",
    "Для категории заёмщиков с 5 детьми данных в воборке мало, что бы сделать вывод."
   ]
  },
  {
   "cell_type": "markdown",
   "id": "74c9b3a7",
   "metadata": {
    "deletable": false,
    "editable": false,
    "id": "74c9b3a7"
   },
   "source": [
    "#### 3.2 Есть ли зависимость между семейным положением и возвратом кредита в срок?"
   ]
  },
  {
   "cell_type": "code",
   "execution_count": 23,
   "id": "8098ab3b",
   "metadata": {
    "deletable": false,
    "id": "8098ab3b",
    "scrolled": true
   },
   "outputs": [
    {
     "data": {
      "text/html": [
       "<style  type=\"text/css\" >\n",
       "</style><table id=\"T_5ccad_\" ><thead>    <tr>        <th class=\"blank level0\" ></th>        <th class=\"col_heading level0 col0\" >whithout_debt</th>        <th class=\"col_heading level0 col1\" >whith_debt</th>        <th class=\"col_heading level0 col2\" >percent_debt</th>    </tr>    <tr>        <th class=\"index_name level0\" >family_status</th>        <th class=\"blank\" ></th>        <th class=\"blank\" ></th>        <th class=\"blank\" ></th>    </tr></thead><tbody>\n",
       "                <tr>\n",
       "                        <th id=\"T_5ccad_level0_row0\" class=\"row_heading level0 row0\" >вдовец / вдова</th>\n",
       "                        <td id=\"T_5ccad_row0_col0\" class=\"data row0 col0\" >888</td>\n",
       "                        <td id=\"T_5ccad_row0_col1\" class=\"data row0 col1\" >63</td>\n",
       "                        <td id=\"T_5ccad_row0_col2\" class=\"data row0 col2\" >6.62%</td>\n",
       "            </tr>\n",
       "            <tr>\n",
       "                        <th id=\"T_5ccad_level0_row1\" class=\"row_heading level0 row1\" >в разводе</th>\n",
       "                        <td id=\"T_5ccad_row1_col0\" class=\"data row1 col0\" >1105</td>\n",
       "                        <td id=\"T_5ccad_row1_col1\" class=\"data row1 col1\" >84</td>\n",
       "                        <td id=\"T_5ccad_row1_col2\" class=\"data row1 col2\" >7.06%</td>\n",
       "            </tr>\n",
       "            <tr>\n",
       "                        <th id=\"T_5ccad_level0_row2\" class=\"row_heading level0 row2\" >женат / замужем</th>\n",
       "                        <td id=\"T_5ccad_row2_col0\" class=\"data row2 col0\" >11334</td>\n",
       "                        <td id=\"T_5ccad_row2_col1\" class=\"data row2 col1\" >927</td>\n",
       "                        <td id=\"T_5ccad_row2_col2\" class=\"data row2 col2\" >7.56%</td>\n",
       "            </tr>\n",
       "            <tr>\n",
       "                        <th id=\"T_5ccad_level0_row3\" class=\"row_heading level0 row3\" >гражданский брак</th>\n",
       "                        <td id=\"T_5ccad_row3_col0\" class=\"data row3 col0\" >3749</td>\n",
       "                        <td id=\"T_5ccad_row3_col1\" class=\"data row3 col1\" >385</td>\n",
       "                        <td id=\"T_5ccad_row3_col2\" class=\"data row3 col2\" >9.31%</td>\n",
       "            </tr>\n",
       "            <tr>\n",
       "                        <th id=\"T_5ccad_level0_row4\" class=\"row_heading level0 row4\" >Не женат / не замужем</th>\n",
       "                        <td id=\"T_5ccad_row4_col0\" class=\"data row4 col0\" >2523</td>\n",
       "                        <td id=\"T_5ccad_row4_col1\" class=\"data row4 col1\" >273</td>\n",
       "                        <td id=\"T_5ccad_row4_col2\" class=\"data row4 col2\" >9.76%</td>\n",
       "            </tr>\n",
       "    </tbody></table>"
      ],
      "text/plain": [
       "<pandas.io.formats.style.Styler at 0x7f6d2c84b3a0>"
      ]
     },
     "execution_count": 23,
     "metadata": {},
     "output_type": "execute_result"
    }
   ],
   "source": [
    "table_family = data.pivot_table(index = 'family_status',columns = 'debt',\n",
    "                                  values = 'education', aggfunc = 'count')\n",
    "table_family.columns = ['whithout_debt', 'whith_debt']\n",
    "table_family['percent_debt'] = (table_family['whith_debt'] /\n",
    "                                (table_family['whith_debt'] + table_family['whithout_debt']))\n",
    "table_family.sort_values(by = 'percent_debt', ascending = True).style.format(\n",
    "    {'percent_debt': '{:.2%}'})"
   ]
  },
  {
   "cell_type": "markdown",
   "id": "c389ca63",
   "metadata": {
    "deletable": false,
    "id": "c389ca63"
   },
   "source": [
    "**Вывод:** Существует зависимость между семейным положением и возвратом кредита в срок. Так у заемщиков не состоящих в браке задолженность по возврату кредита выше чем у заемщиков состоящих либо бывших в официальном браке."
   ]
  },
  {
   "cell_type": "markdown",
   "id": "9529de68",
   "metadata": {
    "deletable": false,
    "editable": false,
    "id": "9529de68"
   },
   "source": [
    "#### 3.3 Есть ли зависимость между уровнем дохода и возвратом кредита в срок?"
   ]
  },
  {
   "cell_type": "code",
   "execution_count": 24,
   "id": "8787f44a",
   "metadata": {
    "deletable": false,
    "id": "8787f44a"
   },
   "outputs": [
    {
     "data": {
      "text/html": [
       "<style  type=\"text/css\" >\n",
       "</style><table id=\"T_28c9e_\" ><thead>    <tr>        <th class=\"blank level0\" ></th>        <th class=\"col_heading level0 col0\" >whithout_debt</th>        <th class=\"col_heading level0 col1\" >whith_debt</th>        <th class=\"col_heading level0 col2\" >percent_debt</th>    </tr></thead><tbody>\n",
       "                <tr>\n",
       "                        <th id=\"T_28c9e_level0_row0\" class=\"row_heading level0 row0\" >D— 30000–50000</th>\n",
       "                        <td id=\"T_28c9e_row0_col0\" class=\"data row0 col0\" >328</td>\n",
       "                        <td id=\"T_28c9e_row0_col1\" class=\"data row0 col1\" >21</td>\n",
       "                        <td id=\"T_28c9e_row0_col2\" class=\"data row0 col2\" >6.02%</td>\n",
       "            </tr>\n",
       "            <tr>\n",
       "                        <th id=\"T_28c9e_level0_row1\" class=\"row_heading level0 row1\" >B— 200000–1000000</th>\n",
       "                        <td id=\"T_28c9e_row1_col0\" class=\"data row1 col0\" >4660</td>\n",
       "                        <td id=\"T_28c9e_row1_col1\" class=\"data row1 col1\" >354</td>\n",
       "                        <td id=\"T_28c9e_row1_col2\" class=\"data row1 col2\" >7.06%</td>\n",
       "            </tr>\n",
       "            <tr>\n",
       "                        <th id=\"T_28c9e_level0_row2\" class=\"row_heading level0 row2\" >A— 1000000 и выше</th>\n",
       "                        <td id=\"T_28c9e_row2_col0\" class=\"data row2 col0\" >23</td>\n",
       "                        <td id=\"T_28c9e_row2_col1\" class=\"data row2 col1\" >2</td>\n",
       "                        <td id=\"T_28c9e_row2_col2\" class=\"data row2 col2\" >8.00%</td>\n",
       "            </tr>\n",
       "            <tr>\n",
       "                        <th id=\"T_28c9e_level0_row3\" class=\"row_heading level0 row3\" >C— 50000–200000</th>\n",
       "                        <td id=\"T_28c9e_row3_col0\" class=\"data row3 col0\" >14568</td>\n",
       "                        <td id=\"T_28c9e_row3_col1\" class=\"data row3 col1\" >1353</td>\n",
       "                        <td id=\"T_28c9e_row3_col2\" class=\"data row3 col2\" >8.50%</td>\n",
       "            </tr>\n",
       "            <tr>\n",
       "                        <th id=\"T_28c9e_level0_row4\" class=\"row_heading level0 row4\" >E— 0–30000</th>\n",
       "                        <td id=\"T_28c9e_row4_col0\" class=\"data row4 col0\" >20</td>\n",
       "                        <td id=\"T_28c9e_row4_col1\" class=\"data row4 col1\" >2</td>\n",
       "                        <td id=\"T_28c9e_row4_col2\" class=\"data row4 col2\" >9.09%</td>\n",
       "            </tr>\n",
       "    </tbody></table>"
      ],
      "text/plain": [
       "<pandas.io.formats.style.Styler at 0x7f6d2c8b2d00>"
      ]
     },
     "execution_count": 24,
     "metadata": {},
     "output_type": "execute_result"
    }
   ],
   "source": [
    "table_income = data.pivot_table(index = 'total_income_category',columns = 'debt',\n",
    "                                  values = 'education', aggfunc = 'count')\n",
    "table_income.index = ['A— 1000000 и выше', 'B— 200000–1000000', 'C— 50000–200000', 'D— 30000–50000','E— 0–30000' ]\n",
    "table_income.columns = ['whithout_debt', 'whith_debt']\n",
    "table_income['percent_debt'] = (table_income['whith_debt'] /\n",
    "                                (table_income['whith_debt'] + table_income['whithout_debt']))\n",
    "table_income.sort_values(by = 'percent_debt', ascending = True).style.format(\n",
    "    {'percent_debt': '{:.2%}'})"
   ]
  },
  {
   "cell_type": "markdown",
   "id": "6dd14b57",
   "metadata": {
    "deletable": false,
    "id": "6dd14b57"
   },
   "source": [
    "**Вывод:** Существует зависимость между уровнем дохода и возвратом кредита в срок. Так процент не возврата кредита низок у заёмщиков в категориях дохода `D` и `B`. Однако у категории заёмщиков `С`, являющейся самой большой по количеству заемщиков, процент не возрата кредитов является одним из высоких из всех категорий."
   ]
  },
  {
   "cell_type": "markdown",
   "id": "1dcc9b12",
   "metadata": {
    "deletable": false,
    "editable": false,
    "id": "1dcc9b12"
   },
   "source": [
    "#### 3.4 Как разные цели кредита влияют на его возврат в срок?"
   ]
  },
  {
   "cell_type": "code",
   "execution_count": 25,
   "id": "c602bc8b",
   "metadata": {
    "deletable": false,
    "id": "c602bc8b"
   },
   "outputs": [
    {
     "data": {
      "text/html": [
       "<style  type=\"text/css\" >\n",
       "</style><table id=\"T_52c4b_\" ><thead>    <tr>        <th class=\"blank level0\" ></th>        <th class=\"col_heading level0 col0\" >whithout_debt</th>        <th class=\"col_heading level0 col1\" >whith_debt</th>        <th class=\"col_heading level0 col2\" >percent_debt</th>    </tr>    <tr>        <th class=\"index_name level0\" >purpose_category</th>        <th class=\"blank\" ></th>        <th class=\"blank\" ></th>        <th class=\"blank\" ></th>    </tr></thead><tbody>\n",
       "                <tr>\n",
       "                        <th id=\"T_52c4b_level0_row0\" class=\"row_heading level0 row0\" >операции с недвижимостью</th>\n",
       "                        <td id=\"T_52c4b_row0_col0\" class=\"data row0 col0\" >9971</td>\n",
       "                        <td id=\"T_52c4b_row0_col1\" class=\"data row0 col1\" >780</td>\n",
       "                        <td id=\"T_52c4b_row0_col2\" class=\"data row0 col2\" >7.26%</td>\n",
       "            </tr>\n",
       "            <tr>\n",
       "                        <th id=\"T_52c4b_level0_row1\" class=\"row_heading level0 row1\" >проведение свадьбы</th>\n",
       "                        <td id=\"T_52c4b_row1_col0\" class=\"data row1 col0\" >2130</td>\n",
       "                        <td id=\"T_52c4b_row1_col1\" class=\"data row1 col1\" >183</td>\n",
       "                        <td id=\"T_52c4b_row1_col2\" class=\"data row1 col2\" >7.91%</td>\n",
       "            </tr>\n",
       "            <tr>\n",
       "                        <th id=\"T_52c4b_level0_row2\" class=\"row_heading level0 row2\" >получение образования</th>\n",
       "                        <td id=\"T_52c4b_row2_col0\" class=\"data row2 col0\" >3619</td>\n",
       "                        <td id=\"T_52c4b_row2_col1\" class=\"data row2 col1\" >369</td>\n",
       "                        <td id=\"T_52c4b_row2_col2\" class=\"data row2 col2\" >9.25%</td>\n",
       "            </tr>\n",
       "            <tr>\n",
       "                        <th id=\"T_52c4b_level0_row3\" class=\"row_heading level0 row3\" >операции с автомобилем</th>\n",
       "                        <td id=\"T_52c4b_row3_col0\" class=\"data row3 col0\" >3879</td>\n",
       "                        <td id=\"T_52c4b_row3_col1\" class=\"data row3 col1\" >400</td>\n",
       "                        <td id=\"T_52c4b_row3_col2\" class=\"data row3 col2\" >9.35%</td>\n",
       "            </tr>\n",
       "    </tbody></table>"
      ],
      "text/plain": [
       "<pandas.io.formats.style.Styler at 0x7f6ce7c33af0>"
      ]
     },
     "execution_count": 25,
     "metadata": {},
     "output_type": "execute_result"
    }
   ],
   "source": [
    "table_purpose = data.pivot_table(index = 'purpose_category',columns = 'debt',\n",
    "                                  values = 'education', aggfunc = 'count')\n",
    "table_purpose.columns = ['whithout_debt', 'whith_debt']\n",
    "table_purpose['percent_debt'] = (table_purpose['whith_debt'] /\n",
    "                                (table_purpose['whith_debt'] + table_purpose['whithout_debt']))\n",
    "table_purpose.sort_values(by = 'percent_debt', ascending = True).style.format(\n",
    "    {'percent_debt': '{:.2%}'})"
   ]
  },
  {
   "cell_type": "markdown",
   "id": "cf05ed63",
   "metadata": {
    "deletable": false,
    "id": "cf05ed63"
   },
   "source": [
    "**Вывод:** Менее подвержены риску не возврата кредиты в категории операции с недвижимостью. Так же категория операции с недвижимостью является самой большой категорией по числу кредитования."
   ]
  },
  {
   "cell_type": "markdown",
   "id": "46c1f10b",
   "metadata": {
    "deletable": false,
    "editable": false,
    "id": "46c1f10b"
   },
   "source": [
    "#### 3.5 Приведите возможные причины появления пропусков в исходных данных."
   ]
  },
  {
   "cell_type": "markdown",
   "id": "3697d2a9",
   "metadata": {
    "deletable": false,
    "id": "3697d2a9"
   },
   "source": [
    "*Ответ:*  Возможны ошибки при заполненении, выгрузки. Возможно данные в файле были собраны из разных источников. Количество и места пропусков в двух разных колонках данных совпадают. Возможно данные в них взаимосвязаны, расчет данных в одной колонке производился на основе данных другой колонки."
   ]
  },
  {
   "cell_type": "markdown",
   "id": "3137d257",
   "metadata": {
    "deletable": false,
    "editable": false,
    "id": "3137d257"
   },
   "source": [
    "#### 3.6 Объясните, почему заполнить пропуски медианным значением — лучшее решение для количественных переменных."
   ]
  },
  {
   "cell_type": "markdown",
   "id": "cf40012a",
   "metadata": {
    "deletable": false,
    "id": "cf40012a"
   },
   "source": [
    "*Ответ:* Медианные значения лучше для количественных переменных так как отражают более усредненные значения в выборке. На Медиану не влияют черезмерно большие либо черезмерно малые значения из выборки."
   ]
  },
  {
   "cell_type": "markdown",
   "id": "57bc304e",
   "metadata": {
    "deletable": false,
    "editable": false,
    "id": "57bc304e"
   },
   "source": [
    "### Шаг 4: общий вывод."
   ]
  },
  {
   "cell_type": "code",
   "execution_count": 26,
   "id": "d37fa797",
   "metadata": {},
   "outputs": [
    {
     "data": {
      "text/html": [
       "<style  type=\"text/css\" >\n",
       "</style><table id=\"T_a3ae6_\" ><thead>    <tr>        <th class=\"blank level0\" ></th>        <th class=\"col_heading level0 col0\" >whithout_debt</th>        <th class=\"col_heading level0 col1\" >whith_debt</th>        <th class=\"col_heading level0 col2\" >percent_debt_returned</th>    </tr></thead><tbody>\n",
       "                <tr>\n",
       "                        <th id=\"T_a3ae6_level0_row0\" class=\"row_heading level0 row0\" >debt_count</th>\n",
       "                        <td id=\"T_a3ae6_row0_col0\" class=\"data row0 col0\" >19599</td>\n",
       "                        <td id=\"T_a3ae6_row0_col1\" class=\"data row0 col1\" >1732</td>\n",
       "                        <td id=\"T_a3ae6_row0_col2\" class=\"data row0 col2\" >91.88%</td>\n",
       "            </tr>\n",
       "    </tbody></table>"
      ],
      "text/plain": [
       "<pandas.io.formats.style.Styler at 0x7f6d52802550>"
      ]
     },
     "execution_count": 26,
     "metadata": {},
     "output_type": "execute_result"
    }
   ],
   "source": [
    "table_debt= data.pivot_table(columns = 'debt',\n",
    "                                  values = 'education', aggfunc = 'count')\n",
    "table_debt.columns = ['whithout_debt', 'whith_debt']\n",
    "table_debt.index = ['debt_count']\n",
    "table_debt['percent_debt_returned'] = (table_debt['whithout_debt'] /\n",
    "                                (table_debt['whithout_debt'] + table_debt['whith_debt']))\n",
    "table_debt.style.format({'percent_debt_returned': '{:.2%}'})"
   ]
  },
  {
   "cell_type": "markdown",
   "id": "ba4e655c",
   "metadata": {
    "deletable": false,
    "id": "1ab75d1c"
   },
   "source": [
    "Проанализировав входные данные от банка можно сделать вывод о том что кредитование заёмщиков является выгодным,\n",
    "стабильным видом деятельности. Большинство заёмщиков возвращает кредиты в срок. Общий процент возврата кредитов заёмщиками составляет ~ 91%.\n",
    "\n",
    "Большую часть количества кредитов банк выдает заёмщикам состоящим в браке, не имеющим детей со средним доходом от \n",
    "50 000 до 200 000 на цели с операциями с недвижимостью.\n",
    "\n",
    "Из предоставленной статистики о платёжеспособности клиентов банка выделяются ряд параметров для категорий заёмщиков с \n",
    "наименьшим процентом задолженностей по кредитам.\n",
    "\n",
    "1. Семейное положение.\n",
    "\n",
    "Так люди состоящие или прошедшие через институт брака гораздо чаще не допускают просрочки кредита.\n",
    "\n",
    "2. Количество детей у заёмщика.\n",
    "\n",
    "Отсутствие детей у заёмщика понижает риск не возврата кредита.\n",
    "\n",
    "3. Категория уровня дохода заёмщика.\n",
    "\n",
    "Факт низких доходов заёмщика увеличивает вероятность не возврата кредита.\n",
    "\n",
    "4. Цель кредита для заёмщика.\n",
    "\n",
    "Менее подвержены риску не возврата кредиты в категории операции с недвижимостью.\n",
    "\n",
    "\n",
    "На основе данных категорий и статистики о платёжеспособности клиентов банка можно описать критерии для построении \n",
    "модели кредитного скоринга."
   ]
  }
 ],
 "metadata": {
  "ExecuteTimeLog": [
   {
    "duration": 47,
    "start_time": "2023-01-21T09:25:05.483Z"
   },
   {
    "duration": 496,
    "start_time": "2023-01-21T09:25:15.214Z"
   },
   {
    "duration": 24,
    "start_time": "2023-01-21T09:25:15.713Z"
   },
   {
    "duration": 15,
    "start_time": "2023-01-21T09:25:15.739Z"
   },
   {
    "duration": 21,
    "start_time": "2023-01-21T09:25:15.756Z"
   },
   {
    "duration": 50,
    "start_time": "2023-01-21T09:25:15.779Z"
   },
   {
    "duration": 4,
    "start_time": "2023-01-21T09:25:15.831Z"
   },
   {
    "duration": 39,
    "start_time": "2023-01-21T09:25:15.836Z"
   },
   {
    "duration": 31,
    "start_time": "2023-01-21T09:25:15.876Z"
   },
   {
    "duration": 24,
    "start_time": "2023-01-21T09:25:15.908Z"
   },
   {
    "duration": 29,
    "start_time": "2023-01-21T09:25:15.934Z"
   },
   {
    "duration": 53,
    "start_time": "2023-01-21T09:25:15.965Z"
   },
   {
    "duration": 10,
    "start_time": "2023-01-21T09:25:16.020Z"
   },
   {
    "duration": 9,
    "start_time": "2023-01-21T09:25:16.032Z"
   },
   {
    "duration": 33,
    "start_time": "2023-01-21T09:25:16.044Z"
   },
   {
    "duration": 41,
    "start_time": "2023-01-21T09:25:16.079Z"
   },
   {
    "duration": 26,
    "start_time": "2023-01-21T09:25:16.121Z"
   },
   {
    "duration": 12,
    "start_time": "2023-01-21T09:25:16.149Z"
   },
   {
    "duration": 21,
    "start_time": "2023-01-21T09:25:16.163Z"
   },
   {
    "duration": 27,
    "start_time": "2023-01-21T09:25:16.186Z"
   },
   {
    "duration": 13,
    "start_time": "2023-01-21T09:25:16.216Z"
   },
   {
    "duration": 32,
    "start_time": "2023-01-21T09:25:16.231Z"
   },
   {
    "duration": 34,
    "start_time": "2023-01-21T09:25:18.651Z"
   },
   {
    "duration": 38,
    "start_time": "2023-01-21T09:26:09.891Z"
   },
   {
    "duration": 15,
    "start_time": "2023-01-21T09:27:30.074Z"
   },
   {
    "duration": 15,
    "start_time": "2023-01-21T09:29:54.361Z"
   },
   {
    "duration": 15,
    "start_time": "2023-01-21T09:31:01.329Z"
   },
   {
    "duration": 15,
    "start_time": "2023-01-21T09:33:22.033Z"
   },
   {
    "duration": 5,
    "start_time": "2023-01-21T09:35:52.460Z"
   },
   {
    "duration": 22,
    "start_time": "2023-01-21T09:39:00.459Z"
   },
   {
    "duration": 24,
    "start_time": "2023-01-21T09:39:09.268Z"
   },
   {
    "duration": 14,
    "start_time": "2023-01-21T09:39:26.882Z"
   },
   {
    "duration": 14,
    "start_time": "2023-01-21T09:39:48.496Z"
   },
   {
    "duration": 15,
    "start_time": "2023-01-21T09:44:55.860Z"
   },
   {
    "duration": 16,
    "start_time": "2023-01-21T09:53:38.182Z"
   },
   {
    "duration": 24,
    "start_time": "2023-01-21T10:05:09.733Z"
   },
   {
    "duration": 22,
    "start_time": "2023-01-21T10:05:59.025Z"
   },
   {
    "duration": 41,
    "start_time": "2023-01-22T09:58:28.896Z"
   },
   {
    "duration": 529,
    "start_time": "2023-01-22T09:58:38.320Z"
   },
   {
    "duration": 20,
    "start_time": "2023-01-22T09:58:38.851Z"
   },
   {
    "duration": 14,
    "start_time": "2023-01-22T09:58:38.873Z"
   },
   {
    "duration": 10,
    "start_time": "2023-01-22T09:58:38.889Z"
   },
   {
    "duration": 42,
    "start_time": "2023-01-22T09:58:38.902Z"
   },
   {
    "duration": 4,
    "start_time": "2023-01-22T09:58:38.945Z"
   },
   {
    "duration": 14,
    "start_time": "2023-01-22T09:58:38.951Z"
   },
   {
    "duration": 13,
    "start_time": "2023-01-22T09:58:38.967Z"
   },
   {
    "duration": 12,
    "start_time": "2023-01-22T09:58:38.982Z"
   },
   {
    "duration": 4,
    "start_time": "2023-01-22T09:58:38.995Z"
   },
   {
    "duration": 40,
    "start_time": "2023-01-22T09:58:39.000Z"
   },
   {
    "duration": 9,
    "start_time": "2023-01-22T09:58:39.041Z"
   },
   {
    "duration": 10,
    "start_time": "2023-01-22T09:58:39.051Z"
   },
   {
    "duration": 17,
    "start_time": "2023-01-22T09:58:39.064Z"
   },
   {
    "duration": 21,
    "start_time": "2023-01-22T09:58:39.083Z"
   },
   {
    "duration": 17,
    "start_time": "2023-01-22T09:58:39.105Z"
   },
   {
    "duration": 4,
    "start_time": "2023-01-22T09:58:39.136Z"
   },
   {
    "duration": 12,
    "start_time": "2023-01-22T09:58:39.141Z"
   },
   {
    "duration": 5,
    "start_time": "2023-01-22T09:58:39.154Z"
   },
   {
    "duration": 6,
    "start_time": "2023-01-22T09:58:39.161Z"
   },
   {
    "duration": 21,
    "start_time": "2023-01-22T09:58:39.168Z"
   },
   {
    "duration": 36,
    "start_time": "2023-01-22T09:58:39.191Z"
   },
   {
    "duration": 12,
    "start_time": "2023-01-22T09:58:43.032Z"
   },
   {
    "duration": 14,
    "start_time": "2023-01-22T10:01:43.764Z"
   },
   {
    "duration": 17,
    "start_time": "2023-01-22T10:03:16.439Z"
   },
   {
    "duration": 31,
    "start_time": "2023-01-22T10:11:10.557Z"
   },
   {
    "duration": 13,
    "start_time": "2023-01-22T10:11:43.838Z"
   },
   {
    "duration": 6,
    "start_time": "2023-01-22T10:43:05.719Z"
   },
   {
    "duration": 8,
    "start_time": "2023-01-22T10:43:17.971Z"
   },
   {
    "duration": 6,
    "start_time": "2023-01-22T10:43:30.802Z"
   },
   {
    "duration": 4,
    "start_time": "2023-01-22T10:44:19.911Z"
   },
   {
    "duration": 6,
    "start_time": "2023-01-22T10:44:26.982Z"
   },
   {
    "duration": 92,
    "start_time": "2023-01-22T10:55:31.497Z"
   },
   {
    "duration": 18,
    "start_time": "2023-01-22T10:55:39.537Z"
   },
   {
    "duration": 19,
    "start_time": "2023-01-22T10:56:25.617Z"
   },
   {
    "duration": 15,
    "start_time": "2023-01-22T10:56:36.254Z"
   },
   {
    "duration": 15,
    "start_time": "2023-01-22T10:57:28.909Z"
   },
   {
    "duration": 14,
    "start_time": "2023-01-22T11:00:30.739Z"
   },
   {
    "duration": 17,
    "start_time": "2023-01-22T11:00:40.133Z"
   },
   {
    "duration": 17,
    "start_time": "2023-01-22T11:02:52.596Z"
   },
   {
    "duration": 5,
    "start_time": "2023-01-22T11:05:20.416Z"
   },
   {
    "duration": 12,
    "start_time": "2023-01-22T11:09:14.627Z"
   },
   {
    "duration": 16,
    "start_time": "2023-01-22T11:09:29.576Z"
   },
   {
    "duration": 12,
    "start_time": "2023-01-22T11:12:09.035Z"
   },
   {
    "duration": 21,
    "start_time": "2023-01-22T11:12:22.239Z"
   },
   {
    "duration": 72,
    "start_time": "2023-01-22T11:17:41.422Z"
   },
   {
    "duration": 19,
    "start_time": "2023-01-22T11:18:05.179Z"
   },
   {
    "duration": 18,
    "start_time": "2023-01-22T11:18:29.822Z"
   },
   {
    "duration": 91,
    "start_time": "2023-01-22T11:28:52.796Z"
   },
   {
    "duration": 496,
    "start_time": "2023-01-22T11:29:16.121Z"
   },
   {
    "duration": 28,
    "start_time": "2023-01-22T11:34:17.943Z"
   },
   {
    "duration": 18,
    "start_time": "2023-01-22T11:38:24.924Z"
   },
   {
    "duration": 70,
    "start_time": "2023-01-22T11:42:09.470Z"
   },
   {
    "duration": 22,
    "start_time": "2023-01-22T11:42:46.007Z"
   },
   {
    "duration": 19,
    "start_time": "2023-01-22T11:43:01.459Z"
   },
   {
    "duration": 18,
    "start_time": "2023-01-22T11:43:09.623Z"
   },
   {
    "duration": 17,
    "start_time": "2023-01-22T11:44:12.019Z"
   },
   {
    "duration": 17,
    "start_time": "2023-01-22T11:45:00.544Z"
   },
   {
    "duration": 16,
    "start_time": "2023-01-22T11:45:09.296Z"
   },
   {
    "duration": 22,
    "start_time": "2023-01-22T11:45:14.031Z"
   },
   {
    "duration": 18,
    "start_time": "2023-01-22T11:45:26.627Z"
   },
   {
    "duration": 17,
    "start_time": "2023-01-22T11:45:35.043Z"
   },
   {
    "duration": 18,
    "start_time": "2023-01-22T11:45:41.214Z"
   },
   {
    "duration": 23,
    "start_time": "2023-01-22T11:46:15.723Z"
   },
   {
    "duration": 16,
    "start_time": "2023-01-22T11:46:23.112Z"
   },
   {
    "duration": 20,
    "start_time": "2023-01-22T11:51:05.923Z"
   },
   {
    "duration": 19,
    "start_time": "2023-01-22T11:52:00.879Z"
   },
   {
    "duration": 5,
    "start_time": "2023-01-22T11:54:30.558Z"
   },
   {
    "duration": 4,
    "start_time": "2023-01-22T11:54:45.991Z"
   },
   {
    "duration": 19,
    "start_time": "2023-01-22T11:56:23.810Z"
   },
   {
    "duration": 289,
    "start_time": "2023-01-22T11:57:48.306Z"
   },
   {
    "duration": 18,
    "start_time": "2023-01-22T11:58:14.093Z"
   },
   {
    "duration": 22,
    "start_time": "2023-01-22T12:14:02.932Z"
   },
   {
    "duration": 72,
    "start_time": "2023-01-22T12:14:41.688Z"
   },
   {
    "duration": 13,
    "start_time": "2023-01-22T12:14:41.762Z"
   },
   {
    "duration": 18,
    "start_time": "2023-01-22T12:14:41.776Z"
   },
   {
    "duration": 9,
    "start_time": "2023-01-22T12:14:41.795Z"
   },
   {
    "duration": 45,
    "start_time": "2023-01-22T12:14:41.805Z"
   },
   {
    "duration": 3,
    "start_time": "2023-01-22T12:14:41.852Z"
   },
   {
    "duration": 16,
    "start_time": "2023-01-22T12:14:41.856Z"
   },
   {
    "duration": 7,
    "start_time": "2023-01-22T12:14:41.874Z"
   },
   {
    "duration": 16,
    "start_time": "2023-01-22T12:14:41.882Z"
   },
   {
    "duration": 7,
    "start_time": "2023-01-22T12:14:41.900Z"
   },
   {
    "duration": 40,
    "start_time": "2023-01-22T12:14:41.909Z"
   },
   {
    "duration": 10,
    "start_time": "2023-01-22T12:14:41.951Z"
   },
   {
    "duration": 6,
    "start_time": "2023-01-22T12:14:41.963Z"
   },
   {
    "duration": 20,
    "start_time": "2023-01-22T12:14:41.971Z"
   },
   {
    "duration": 30,
    "start_time": "2023-01-22T12:14:41.993Z"
   },
   {
    "duration": 27,
    "start_time": "2023-01-22T12:14:42.025Z"
   },
   {
    "duration": 4,
    "start_time": "2023-01-22T12:14:42.053Z"
   },
   {
    "duration": 23,
    "start_time": "2023-01-22T12:14:42.059Z"
   },
   {
    "duration": 13,
    "start_time": "2023-01-22T12:14:42.084Z"
   },
   {
    "duration": 3,
    "start_time": "2023-01-22T12:14:42.099Z"
   },
   {
    "duration": 32,
    "start_time": "2023-01-22T12:14:42.103Z"
   },
   {
    "duration": 32,
    "start_time": "2023-01-22T12:14:42.137Z"
   },
   {
    "duration": 25,
    "start_time": "2023-01-22T12:14:46.937Z"
   },
   {
    "duration": 71,
    "start_time": "2023-01-22T12:15:56.055Z"
   },
   {
    "duration": 20,
    "start_time": "2023-01-22T12:16:21.662Z"
   },
   {
    "duration": 17,
    "start_time": "2023-01-22T12:16:54.908Z"
   },
   {
    "duration": 19,
    "start_time": "2023-01-22T12:17:27.128Z"
   },
   {
    "duration": 22,
    "start_time": "2023-01-22T12:17:54.923Z"
   },
   {
    "duration": 23,
    "start_time": "2023-01-22T12:18:05.548Z"
   },
   {
    "duration": 18,
    "start_time": "2023-01-22T12:18:37.776Z"
   },
   {
    "duration": 79,
    "start_time": "2023-01-22T16:04:09.519Z"
   },
   {
    "duration": 717,
    "start_time": "2023-01-22T16:04:21.408Z"
   },
   {
    "duration": 43,
    "start_time": "2023-01-22T16:04:22.128Z"
   },
   {
    "duration": 24,
    "start_time": "2023-01-22T16:04:22.174Z"
   },
   {
    "duration": 20,
    "start_time": "2023-01-22T16:04:22.200Z"
   },
   {
    "duration": 84,
    "start_time": "2023-01-22T16:04:22.223Z"
   },
   {
    "duration": 5,
    "start_time": "2023-01-22T16:04:22.308Z"
   },
   {
    "duration": 15,
    "start_time": "2023-01-22T16:04:22.316Z"
   },
   {
    "duration": 5,
    "start_time": "2023-01-22T16:04:22.334Z"
   },
   {
    "duration": 21,
    "start_time": "2023-01-22T16:04:22.342Z"
   },
   {
    "duration": 33,
    "start_time": "2023-01-22T16:04:22.366Z"
   },
   {
    "duration": 67,
    "start_time": "2023-01-22T16:04:22.401Z"
   },
   {
    "duration": 16,
    "start_time": "2023-01-22T16:04:22.470Z"
   },
   {
    "duration": 4,
    "start_time": "2023-01-22T16:04:22.488Z"
   },
   {
    "duration": 21,
    "start_time": "2023-01-22T16:04:22.496Z"
   },
   {
    "duration": 32,
    "start_time": "2023-01-22T16:04:22.519Z"
   },
   {
    "duration": 54,
    "start_time": "2023-01-22T16:04:22.553Z"
   },
   {
    "duration": 5,
    "start_time": "2023-01-22T16:04:22.609Z"
   },
   {
    "duration": 22,
    "start_time": "2023-01-22T16:04:22.616Z"
   },
   {
    "duration": 11,
    "start_time": "2023-01-22T16:04:22.640Z"
   },
   {
    "duration": 33,
    "start_time": "2023-01-22T16:04:22.653Z"
   },
   {
    "duration": 17,
    "start_time": "2023-01-22T16:04:22.688Z"
   },
   {
    "duration": 807,
    "start_time": "2023-01-22T16:04:22.708Z"
   },
   {
    "duration": 39,
    "start_time": "2023-01-22T16:04:23.518Z"
   },
   {
    "duration": 53,
    "start_time": "2023-01-22T16:04:23.560Z"
   },
   {
    "duration": 38,
    "start_time": "2023-01-22T16:04:25.709Z"
   },
   {
    "duration": 22,
    "start_time": "2023-01-22T17:13:31.373Z"
   },
   {
    "duration": 374,
    "start_time": "2023-01-22T17:35:23.370Z"
   },
   {
    "duration": 30,
    "start_time": "2023-01-22T17:36:43.250Z"
   },
   {
    "duration": 22,
    "start_time": "2023-01-22T18:31:20.297Z"
   },
   {
    "duration": 20,
    "start_time": "2023-01-22T18:31:34.642Z"
   },
   {
    "duration": 347,
    "start_time": "2023-01-22T18:32:16.640Z"
   },
   {
    "duration": 20,
    "start_time": "2023-01-22T18:32:48.358Z"
   },
   {
    "duration": 17,
    "start_time": "2023-01-22T18:33:22.075Z"
   },
   {
    "duration": 14,
    "start_time": "2023-01-22T18:33:41.831Z"
   },
   {
    "duration": 20,
    "start_time": "2023-01-22T18:34:04.102Z"
   },
   {
    "duration": 18,
    "start_time": "2023-01-22T18:34:42.747Z"
   },
   {
    "duration": 8,
    "start_time": "2023-01-22T18:36:04.036Z"
   },
   {
    "duration": 338,
    "start_time": "2023-01-22T18:36:30.525Z"
   },
   {
    "duration": 331,
    "start_time": "2023-01-22T18:36:38.007Z"
   },
   {
    "duration": 26,
    "start_time": "2023-01-22T18:36:55.436Z"
   },
   {
    "duration": 16,
    "start_time": "2023-01-22T18:37:42.341Z"
   },
   {
    "duration": 7,
    "start_time": "2023-01-22T18:44:55.698Z"
   },
   {
    "duration": 6,
    "start_time": "2023-01-22T18:45:32.372Z"
   },
   {
    "duration": 16,
    "start_time": "2023-01-22T18:51:23.884Z"
   },
   {
    "duration": 9,
    "start_time": "2023-01-22T18:51:47.344Z"
   },
   {
    "duration": 12,
    "start_time": "2023-01-22T18:52:07.415Z"
   },
   {
    "duration": 15,
    "start_time": "2023-01-22T18:52:55.628Z"
   },
   {
    "duration": 22,
    "start_time": "2023-01-22T18:57:05.345Z"
   },
   {
    "duration": 7,
    "start_time": "2023-01-22T19:03:04.332Z"
   },
   {
    "duration": 57,
    "start_time": "2023-01-23T19:33:06.998Z"
   },
   {
    "duration": 579,
    "start_time": "2023-01-23T19:33:45.027Z"
   },
   {
    "duration": 28,
    "start_time": "2023-01-23T19:33:45.608Z"
   },
   {
    "duration": 19,
    "start_time": "2023-01-23T19:33:45.638Z"
   },
   {
    "duration": 11,
    "start_time": "2023-01-23T19:33:45.660Z"
   },
   {
    "duration": 50,
    "start_time": "2023-01-23T19:33:45.673Z"
   },
   {
    "duration": 4,
    "start_time": "2023-01-23T19:33:45.725Z"
   },
   {
    "duration": 12,
    "start_time": "2023-01-23T19:33:45.730Z"
   },
   {
    "duration": 5,
    "start_time": "2023-01-23T19:33:45.744Z"
   },
   {
    "duration": 44,
    "start_time": "2023-01-23T19:33:45.751Z"
   },
   {
    "duration": 5,
    "start_time": "2023-01-23T19:33:45.799Z"
   },
   {
    "duration": 42,
    "start_time": "2023-01-23T19:33:45.806Z"
   },
   {
    "duration": 11,
    "start_time": "2023-01-23T19:33:45.850Z"
   },
   {
    "duration": 6,
    "start_time": "2023-01-23T19:33:45.864Z"
   },
   {
    "duration": 26,
    "start_time": "2023-01-23T19:33:45.884Z"
   },
   {
    "duration": 28,
    "start_time": "2023-01-23T19:33:45.912Z"
   },
   {
    "duration": 20,
    "start_time": "2023-01-23T19:33:45.942Z"
   },
   {
    "duration": 4,
    "start_time": "2023-01-23T19:33:45.963Z"
   },
   {
    "duration": 19,
    "start_time": "2023-01-23T19:33:45.987Z"
   },
   {
    "duration": 7,
    "start_time": "2023-01-23T19:33:46.008Z"
   },
   {
    "duration": 7,
    "start_time": "2023-01-23T19:33:46.017Z"
   },
   {
    "duration": 24,
    "start_time": "2023-01-23T19:33:46.026Z"
   },
   {
    "duration": 625,
    "start_time": "2023-01-23T19:33:46.052Z"
   },
   {
    "duration": 39,
    "start_time": "2023-01-23T19:33:46.679Z"
   },
   {
    "duration": 24,
    "start_time": "2023-01-23T19:33:46.720Z"
   },
   {
    "duration": 54,
    "start_time": "2023-01-23T19:33:46.747Z"
   },
   {
    "duration": 496,
    "start_time": "2023-01-23T19:41:02.162Z"
   },
   {
    "duration": 14,
    "start_time": "2023-01-23T19:41:15.214Z"
   },
   {
    "duration": 21,
    "start_time": "2023-01-23T19:41:26.634Z"
   },
   {
    "duration": 16,
    "start_time": "2023-01-23T19:42:36.169Z"
   },
   {
    "duration": 22,
    "start_time": "2023-01-23T19:44:21.749Z"
   },
   {
    "duration": 1376,
    "start_time": "2023-01-23T19:46:00.656Z"
   },
   {
    "duration": 1393,
    "start_time": "2023-01-23T19:47:14.440Z"
   },
   {
    "duration": 20,
    "start_time": "2023-01-23T19:51:18.607Z"
   },
   {
    "duration": 20,
    "start_time": "2023-01-23T19:55:35.125Z"
   },
   {
    "duration": 26,
    "start_time": "2023-01-23T20:45:51.252Z"
   },
   {
    "duration": 76,
    "start_time": "2023-01-23T20:46:57.302Z"
   },
   {
    "duration": 87,
    "start_time": "2023-01-23T20:47:07.844Z"
   },
   {
    "duration": 91,
    "start_time": "2023-01-23T20:47:51.887Z"
   },
   {
    "duration": 24,
    "start_time": "2023-01-23T20:48:08.066Z"
   },
   {
    "duration": 26,
    "start_time": "2023-01-23T20:48:19.424Z"
   },
   {
    "duration": 24,
    "start_time": "2023-01-23T20:48:59.560Z"
   },
   {
    "duration": 28,
    "start_time": "2023-01-23T20:51:23.753Z"
   },
   {
    "duration": 39,
    "start_time": "2023-01-23T20:52:00.012Z"
   },
   {
    "duration": 22,
    "start_time": "2023-01-23T20:52:26.325Z"
   },
   {
    "duration": 18,
    "start_time": "2023-01-23T20:52:35.120Z"
   },
   {
    "duration": 35,
    "start_time": "2023-01-23T20:54:54.281Z"
   },
   {
    "duration": 28,
    "start_time": "2023-01-23T20:55:06.272Z"
   },
   {
    "duration": 30,
    "start_time": "2023-01-23T20:56:28.708Z"
   },
   {
    "duration": 27,
    "start_time": "2023-01-23T20:56:41.301Z"
   },
   {
    "duration": 30,
    "start_time": "2023-01-23T20:57:22.563Z"
   },
   {
    "duration": 28,
    "start_time": "2023-01-23T20:57:59.317Z"
   },
   {
    "duration": 23,
    "start_time": "2023-01-23T20:58:17.848Z"
   },
   {
    "duration": 24,
    "start_time": "2023-01-23T21:15:12.647Z"
   },
   {
    "duration": 25,
    "start_time": "2023-01-23T21:15:29.857Z"
   },
   {
    "duration": 138,
    "start_time": "2023-01-23T21:16:04.472Z"
   },
   {
    "duration": 45,
    "start_time": "2023-01-23T21:16:10.011Z"
   },
   {
    "duration": 30,
    "start_time": "2023-01-23T21:17:41.849Z"
   },
   {
    "duration": 45,
    "start_time": "2023-01-23T21:18:05.413Z"
   },
   {
    "duration": 165,
    "start_time": "2023-01-23T21:18:17.267Z"
   },
   {
    "duration": 42,
    "start_time": "2023-01-23T21:19:40.870Z"
   },
   {
    "duration": 162,
    "start_time": "2023-01-23T21:20:00.512Z"
   },
   {
    "duration": 59,
    "start_time": "2023-01-23T21:20:46.489Z"
   },
   {
    "duration": 60,
    "start_time": "2023-01-23T21:20:56.322Z"
   },
   {
    "duration": 136,
    "start_time": "2023-01-23T21:21:26.642Z"
   },
   {
    "duration": 60,
    "start_time": "2023-01-23T21:21:40.872Z"
   },
   {
    "duration": 740,
    "start_time": "2023-01-23T21:22:37.180Z"
   },
   {
    "duration": 52,
    "start_time": "2023-01-23T21:23:03.914Z"
   },
   {
    "duration": 20,
    "start_time": "2023-01-23T21:23:35.658Z"
   },
   {
    "duration": 26,
    "start_time": "2023-01-23T21:23:54.814Z"
   },
   {
    "duration": 30,
    "start_time": "2023-01-23T21:24:38.535Z"
   },
   {
    "duration": 25,
    "start_time": "2023-01-23T21:25:17.041Z"
   },
   {
    "duration": 55,
    "start_time": "2023-01-24T05:52:22.915Z"
   },
   {
    "duration": 782,
    "start_time": "2023-01-24T05:52:30.550Z"
   },
   {
    "duration": 22,
    "start_time": "2023-01-24T05:52:31.335Z"
   },
   {
    "duration": 19,
    "start_time": "2023-01-24T05:52:31.359Z"
   },
   {
    "duration": 20,
    "start_time": "2023-01-24T05:52:31.380Z"
   },
   {
    "duration": 46,
    "start_time": "2023-01-24T05:52:31.402Z"
   },
   {
    "duration": 3,
    "start_time": "2023-01-24T05:52:31.450Z"
   },
   {
    "duration": 22,
    "start_time": "2023-01-24T05:52:31.456Z"
   },
   {
    "duration": 5,
    "start_time": "2023-01-24T05:52:31.479Z"
   },
   {
    "duration": 14,
    "start_time": "2023-01-24T05:52:31.486Z"
   },
   {
    "duration": 8,
    "start_time": "2023-01-24T05:52:31.503Z"
   },
   {
    "duration": 49,
    "start_time": "2023-01-24T05:52:31.512Z"
   },
   {
    "duration": 13,
    "start_time": "2023-01-24T05:52:31.562Z"
   },
   {
    "duration": 20,
    "start_time": "2023-01-24T05:52:31.576Z"
   },
   {
    "duration": 15,
    "start_time": "2023-01-24T05:52:31.598Z"
   },
   {
    "duration": 37,
    "start_time": "2023-01-24T05:52:31.615Z"
   },
   {
    "duration": 19,
    "start_time": "2023-01-24T05:52:31.654Z"
   },
   {
    "duration": 6,
    "start_time": "2023-01-24T05:52:31.674Z"
   },
   {
    "duration": 29,
    "start_time": "2023-01-24T05:52:31.681Z"
   },
   {
    "duration": 9,
    "start_time": "2023-01-24T05:52:31.711Z"
   },
   {
    "duration": 16,
    "start_time": "2023-01-24T05:52:31.728Z"
   },
   {
    "duration": 14,
    "start_time": "2023-01-24T05:52:31.745Z"
   },
   {
    "duration": 479,
    "start_time": "2023-01-24T05:52:31.761Z"
   },
   {
    "duration": 37,
    "start_time": "2023-01-24T05:52:34.182Z"
   },
   {
    "duration": 35,
    "start_time": "2023-01-24T05:52:46.262Z"
   },
   {
    "duration": 39,
    "start_time": "2023-01-24T05:56:31.137Z"
   },
   {
    "duration": 40,
    "start_time": "2023-01-24T05:57:30.638Z"
   },
   {
    "duration": 38,
    "start_time": "2023-01-24T05:58:22.753Z"
   },
   {
    "duration": 50,
    "start_time": "2023-01-24T05:58:39.541Z"
   },
   {
    "duration": 42,
    "start_time": "2023-01-24T05:58:58.077Z"
   },
   {
    "duration": 22,
    "start_time": "2023-01-24T06:00:15.394Z"
   },
   {
    "duration": 23,
    "start_time": "2023-01-24T06:00:42.418Z"
   },
   {
    "duration": 25,
    "start_time": "2023-01-24T06:01:16.834Z"
   },
   {
    "duration": 16,
    "start_time": "2023-01-24T06:04:47.257Z"
   },
   {
    "duration": 22,
    "start_time": "2023-01-24T06:05:03.749Z"
   },
   {
    "duration": 20,
    "start_time": "2023-01-24T06:07:08.881Z"
   },
   {
    "duration": 46,
    "start_time": "2023-01-24T06:07:40.353Z"
   },
   {
    "duration": 38,
    "start_time": "2023-01-24T06:07:57.635Z"
   },
   {
    "duration": 53,
    "start_time": "2023-01-24T06:08:10.117Z"
   },
   {
    "duration": 52,
    "start_time": "2023-01-24T06:08:17.701Z"
   },
   {
    "duration": 19,
    "start_time": "2023-01-24T06:08:25.677Z"
   },
   {
    "duration": 66,
    "start_time": "2023-01-24T06:08:34.489Z"
   },
   {
    "duration": 20,
    "start_time": "2023-01-24T06:08:42.889Z"
   },
   {
    "duration": 51,
    "start_time": "2023-01-24T06:10:00.613Z"
   },
   {
    "duration": 46,
    "start_time": "2023-01-24T06:10:13.536Z"
   },
   {
    "duration": 15,
    "start_time": "2023-01-24T06:16:04.236Z"
   },
   {
    "duration": 58,
    "start_time": "2023-01-24T06:16:39.456Z"
   },
   {
    "duration": 65,
    "start_time": "2023-01-24T06:17:15.804Z"
   },
   {
    "duration": 8,
    "start_time": "2023-01-24T06:19:42.856Z"
   },
   {
    "duration": 13,
    "start_time": "2023-01-24T06:20:06.720Z"
   },
   {
    "duration": 35,
    "start_time": "2023-01-24T06:22:27.120Z"
   },
   {
    "duration": 24,
    "start_time": "2023-01-24T06:22:45.107Z"
   },
   {
    "duration": 24,
    "start_time": "2023-01-24T06:22:59.064Z"
   },
   {
    "duration": 31,
    "start_time": "2023-01-24T06:23:37.160Z"
   },
   {
    "duration": 30,
    "start_time": "2023-01-24T06:24:55.075Z"
   },
   {
    "duration": 36,
    "start_time": "2023-01-24T06:26:02.388Z"
   },
   {
    "duration": 19,
    "start_time": "2023-01-24T06:26:36.764Z"
   },
   {
    "duration": 41,
    "start_time": "2023-01-24T06:27:54.488Z"
   },
   {
    "duration": 30,
    "start_time": "2023-01-24T06:29:32.687Z"
   },
   {
    "duration": 22,
    "start_time": "2023-01-24T06:34:23.111Z"
   },
   {
    "duration": 21,
    "start_time": "2023-01-24T06:35:02.111Z"
   },
   {
    "duration": 22,
    "start_time": "2023-01-24T06:36:19.323Z"
   },
   {
    "duration": 21,
    "start_time": "2023-01-24T06:36:33.355Z"
   },
   {
    "duration": 21,
    "start_time": "2023-01-24T06:36:39.706Z"
   },
   {
    "duration": 39,
    "start_time": "2023-01-24T06:37:27.014Z"
   },
   {
    "duration": 207,
    "start_time": "2023-01-24T06:37:44.014Z"
   },
   {
    "duration": 38,
    "start_time": "2023-01-24T06:38:24.570Z"
   },
   {
    "duration": 51,
    "start_time": "2023-01-24T06:44:01.150Z"
   },
   {
    "duration": 22,
    "start_time": "2023-01-24T06:44:08.014Z"
   },
   {
    "duration": 24,
    "start_time": "2023-01-24T06:49:30.882Z"
   },
   {
    "duration": 93,
    "start_time": "2023-01-28T05:49:31.782Z"
   },
   {
    "duration": 82,
    "start_time": "2023-01-28T05:50:26.066Z"
   },
   {
    "duration": 468,
    "start_time": "2023-01-28T06:09:11.752Z"
   },
   {
    "duration": 20,
    "start_time": "2023-01-28T06:09:12.222Z"
   },
   {
    "duration": 13,
    "start_time": "2023-01-28T06:09:12.244Z"
   },
   {
    "duration": 30,
    "start_time": "2023-01-28T06:09:12.259Z"
   },
   {
    "duration": 40,
    "start_time": "2023-01-28T06:09:12.291Z"
   },
   {
    "duration": 3,
    "start_time": "2023-01-28T06:09:12.333Z"
   },
   {
    "duration": 16,
    "start_time": "2023-01-28T06:09:12.337Z"
   },
   {
    "duration": 4,
    "start_time": "2023-01-28T06:09:12.355Z"
   },
   {
    "duration": 15,
    "start_time": "2023-01-28T06:09:12.361Z"
   },
   {
    "duration": 12,
    "start_time": "2023-01-28T06:09:12.378Z"
   },
   {
    "duration": 38,
    "start_time": "2023-01-28T06:09:12.392Z"
   },
   {
    "duration": 9,
    "start_time": "2023-01-28T06:09:12.432Z"
   },
   {
    "duration": 9,
    "start_time": "2023-01-28T06:09:12.442Z"
   },
   {
    "duration": 20,
    "start_time": "2023-01-28T06:09:12.454Z"
   },
   {
    "duration": 28,
    "start_time": "2023-01-28T06:09:12.475Z"
   },
   {
    "duration": 15,
    "start_time": "2023-01-28T06:09:12.504Z"
   },
   {
    "duration": 3,
    "start_time": "2023-01-28T06:09:12.521Z"
   },
   {
    "duration": 14,
    "start_time": "2023-01-28T06:09:12.525Z"
   },
   {
    "duration": 22,
    "start_time": "2023-01-28T06:09:12.541Z"
   },
   {
    "duration": 15,
    "start_time": "2023-01-28T06:09:12.564Z"
   },
   {
    "duration": 12,
    "start_time": "2023-01-28T06:09:12.581Z"
   },
   {
    "duration": 442,
    "start_time": "2023-01-28T06:09:12.594Z"
   },
   {
    "duration": 24,
    "start_time": "2023-01-28T06:09:13.037Z"
   },
   {
    "duration": 36,
    "start_time": "2023-01-28T06:09:13.063Z"
   },
   {
    "duration": 21,
    "start_time": "2023-01-28T06:09:13.100Z"
   },
   {
    "duration": 13,
    "start_time": "2023-01-28T06:09:13.122Z"
   }
  ],
  "colab": {
   "provenance": []
  },
  "kernelspec": {
   "display_name": "Python 3 (ipykernel)",
   "language": "python",
   "name": "python3"
  },
  "language_info": {
   "codemirror_mode": {
    "name": "ipython",
    "version": 3
   },
   "file_extension": ".py",
   "mimetype": "text/x-python",
   "name": "python",
   "nbconvert_exporter": "python",
   "pygments_lexer": "ipython3",
   "version": "3.9.13"
  },
  "toc": {
   "base_numbering": 1,
   "nav_menu": {},
   "number_sections": true,
   "sideBar": true,
   "skip_h1_title": true,
   "title_cell": "Table of Contents",
   "title_sidebar": "Contents",
   "toc_cell": false,
   "toc_position": {},
   "toc_section_display": true,
   "toc_window_display": false
  }
 },
 "nbformat": 4,
 "nbformat_minor": 5
}
